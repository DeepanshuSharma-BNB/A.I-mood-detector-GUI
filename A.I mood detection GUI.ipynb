{
 "cells": [
  {
   "cell_type": "markdown",
   "metadata": {},
   "source": [
    "## A.I mood detector GUI"
   ]
  },
  {
   "cell_type": "code",
   "execution_count": 1,
   "metadata": {},
   "outputs": [],
   "source": [
    "# Import packanges\n",
    "# If something is not installed, run - !pip install package_name\n",
    "from tkinter import *\n",
    "from tkinter import filedialog\n",
    "from tkinter import messagebox\n",
    "from textblob import TextBlob\n",
    "import emoji"
   ]
  },
  {
   "cell_type": "code",
   "execution_count": 2,
   "metadata": {},
   "outputs": [
    {
     "data": {
      "text/plain": [
       "''"
      ]
     },
     "execution_count": 2,
     "metadata": {},
     "output_type": "execute_result"
    }
   ],
   "source": [
    "# Make GUI window\n",
    "win = Tk()\n",
    "win.geometry(\"200x200\")\n",
    "win.resizable(width=False, height=False)\n",
    "win.title(\"Mood Detetor\")"
   ]
  },
  {
   "cell_type": "code",
   "execution_count": 3,
   "metadata": {},
   "outputs": [],
   "source": [
    "# Make function\n",
    "def mood():\n",
    "    y = e1.get(\"1.0\", \"end-1c\")\n",
    "    edu = TextBlob(y)\n",
    "    x = edu.sentiment.polarity\n",
    "    if x<0:\n",
    "        try:\n",
    "            m1 = (\"Negative sentence, demotivating\", emoji.emojize(\":disappointed_face:\"))\n",
    "            messagebox.showinfo(\"Mood Detector\", f\"{m1}\")\n",
    "        except:\n",
    "            messagebox.showerror(\"Error\", \"Text box is empty!\")\n",
    "\n",
    "    elif x==0:\n",
    "        try:\n",
    "            m2 = (\"Neutral\", emoji.emojize(\":zipper-mouth_face:\"))\n",
    "            messagebox.showinfo(\"Mood Detector\", f\"{m2}\")\n",
    "        except:\n",
    "            messagebox.showerror(\"Error\", \"Text box is empty!\")\n",
    "\n",
    "    elif x>0 and x<=1:\n",
    "        try:\n",
    "            m3 = (\"Positive, Joyfull\", emoji.emojize(\":grinning_face_with_big_eyes:\"))\n",
    "            messagebox.showinfo(\"Mood Detector\", f\"{m3}\")\n",
    "        except:\n",
    "            messagebox.showerror(\"Error\", \"Text box is empty!\")"
   ]
  },
  {
   "cell_type": "code",
   "execution_count": 4,
   "metadata": {},
   "outputs": [],
   "source": [
    "# Make label, button and position them on the gui window\n",
    "Label(win, text = \"Type your sentence: \", font = \"-size 9 -weight bold\").place(x = 40, y = 20)\n",
    "b1 = Button(win, text=\"Decide Mood\", command = mood, fg = \"white\", bg = \"purple\", font = \"-size 9 -weight bold\").place(x = 60, y = 160)"
   ]
  },
  {
   "cell_type": "code",
   "execution_count": 5,
   "metadata": {},
   "outputs": [],
   "source": [
    "# Make the custom size text box\n",
    "e1 = Text(win, height = 5, width = 20)\n",
    "e1.place(x = 20, y = 50)"
   ]
  },
  {
   "cell_type": "code",
   "execution_count": 6,
   "metadata": {},
   "outputs": [],
   "source": [
    "win.mainloop()"
   ]
  }
 ],
 "metadata": {
  "kernelspec": {
   "display_name": "Python 3",
   "language": "python",
   "name": "python3"
  },
  "language_info": {
   "codemirror_mode": {
    "name": "ipython",
    "version": 3
   },
   "file_extension": ".py",
   "mimetype": "text/x-python",
   "name": "python",
   "nbconvert_exporter": "python",
   "pygments_lexer": "ipython3",
   "version": "3.7.6"
  }
 },
 "nbformat": 4,
 "nbformat_minor": 4
}
